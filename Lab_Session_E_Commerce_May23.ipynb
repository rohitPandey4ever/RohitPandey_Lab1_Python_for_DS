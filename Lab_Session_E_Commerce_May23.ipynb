{
  "cells": [
    {
      "cell_type": "markdown",
      "id": "2c8f47d3",
      "metadata": {
        "id": "2c8f47d3"
      },
      "source": [
        "# Lab Session"
      ]
    },
    {
      "cell_type": "markdown",
      "id": "f637aba6",
      "metadata": {
        "id": "f637aba6"
      },
      "source": [
        "## <font color='blue'> Table Of Contents </font>\n",
        "- Problem Statement\n",
        "- Load required libraries\n",
        "- Connect to DB using mysql-connector-python package\n",
        "- Create database named `e_commerce`\n",
        "- Create tables and insert data into tables as specified in the question\n",
        "- Read all the questions and write sql queries to meet the objective"
      ]
    },
    {
      "cell_type": "markdown",
      "id": "1073fc90",
      "metadata": {
        "id": "1073fc90"
      },
      "source": [
        "## <font color='blue'> Problem Statement </font>\n",
        "###  An E-commerce website manages its data in the form of various tables.\n",
        "You need to create a Database called `e_commerce` and various tables in it. The tables needed and attributes which need to be in every table are given before hand. All you have to do is create tables with data in it and answer some of the questions that follows."
      ]
    },
    {
      "cell_type": "markdown",
      "id": "d9abe6c7",
      "metadata": {
        "id": "d9abe6c7"
      },
      "source": [
        "### Load Required Libraries"
      ]
    },
    {
      "cell_type": "code",
      "execution_count": 1,
      "id": "0178d08e",
      "metadata": {
        "id": "0178d08e"
      },
      "outputs": [
        {
          "name": "stdout",
          "output_type": "stream",
          "text": [
            "Requirement already satisfied: pymysql in c:\\users\\rohit\\anaconda3\\lib\\site-packages (1.1.1)\n",
            "Note: you may need to restart the kernel to use updated packages.\n"
          ]
        }
      ],
      "source": [
        "%pip install pymysql"
      ]
    },
    {
      "cell_type": "markdown",
      "id": "d7d7fd5c",
      "metadata": {
        "id": "d7d7fd5c"
      },
      "source": [
        "### Connect to DB using Mysql-connector-python package"
      ]
    },
    {
      "cell_type": "code",
      "execution_count": 8,
      "id": "ef7bef72",
      "metadata": {
        "id": "ef7bef72"
      },
      "outputs": [
        {
          "name": "stdout",
          "output_type": "stream",
          "text": [
            "<pymysql.connections.Connection object at 0x000002447C81D850>\n"
          ]
        }
      ],
      "source": [
        "import pymysql as sql\n",
        "import pandas as pd\n",
        "\n",
        "connection = sql.connect(host= 'localhost',\n",
        "                         user= 'root',\n",
        "                         passwd= 'CK1912')\n",
        "cursorObject = connection.cursor()\n",
        "\n",
        "print(connection)\n",
        "connection.close()"
      ]
    },
    {
      "cell_type": "markdown",
      "id": "9d55e510",
      "metadata": {
        "id": "9d55e510"
      },
      "source": [
        "### You are required to create a database named 'e_commerce'"
      ]
    },
    {
      "cell_type": "code",
      "execution_count": 15,
      "id": "42a154f2",
      "metadata": {
        "id": "42a154f2"
      },
      "outputs": [],
      "source": [
        "connection = sql.connect(host= 'localhost',\n",
        "                         user='root',\n",
        "                         passwd= 'CK1912')\n",
        "cursorObject = connection.cursor()\n",
        "\n",
        "cursorObject.execute('CREATE DATABASE e_commerce')\n",
        " \n",
        "connection.close()"
      ]
    },
    {
      "cell_type": "markdown",
      "id": "480dc986",
      "metadata": {
        "id": "480dc986"
      },
      "source": [
        "### Q1. Create tables for supplier, customer, category, product, productDetails, order, rating to store the data for the E-commerce with the schema definition given below.\n",
        "\n",
        "\n",
        "- **`supplier`**(SUPP_ID int primary key, SUPP_NAME varchar(50), SUPP_CITY varchar(50), SUPP_PHONE varchar(10))\n",
        "\n",
        "\n",
        "- **`customer`** (CUS_ID INT NOT NULL, CUS_NAME VARCHAR(20) NULL DEFAULT NULL, CUS_PHONE VARCHAR(10), CUS_CITY varchar(30) ,CUS_GENDER CHAR,PRIMARY KEY (CUS_ID))\n",
        "\n",
        "\n",
        "- **`category`** (CAT_ID INT NOT NULL, CAT_NAME VARCHAR(20) NULL DEFAULT NULL,PRIMARY KEY (CAT_ID))\n",
        "\n",
        "\n",
        "- **`product`** (PRO_ID INT NOT NULL, PRO_NAME VARCHAR(20) NULL DEFAULT NULL, PRO_DESC VARCHAR(60) NULL DEFAULT NULL, CAT_ID INT NOT NULL,PRIMARY KEY (PRO_ID),FOREIGN KEY (CAT_ID) REFERENCES CATEGORY (CAT_ID))\n",
        "\n",
        "\n",
        "- **`product_details`** (PROD_ID INT NOT NULL, PRO_ID INT NOT NULL, SUPP_ID INT NOT NULL, PROD_PRICE INT NOT NULL,\n",
        "  PRIMARY KEY (PROD_ID),FOREIGN KEY (PRO_ID) REFERENCES PRODUCT (PRO_ID), FOREIGN KEY (SUPP_ID) REFERENCES SUPPLIER(SUPP_ID))\n",
        "  \n",
        "  \n",
        "- **`order`** (ORD_ID INT NOT NULL, ORD_AMOUNT INT NOT NULL, ORD_DATE DATE, CUS_ID INT NOT NULL, PROD_ID INT NOT NULL,PRIMARY KEY (ORD_ID),FOREIGN KEY (CUS_ID) REFERENCES CUSTOMER(CUS_ID),FOREIGN KEY (PROD_ID) REFERENCES PRODUCT_DETAILS(PROD_ID))\n",
        "\n",
        "\n",
        "- **`rating`** (RAT_ID INT NOT NULL, CUS_ID INT NOT NULL, SUPP_ID INT NOT NULL, RAT_RATSTARS INT NOT NULL,PRIMARY KEY (RAT_ID),FOREIGN KEY (SUPP_ID) REFERENCES SUPPLIER (SUPP_ID),FOREIGN KEY (CUS_ID) REFERENCES CUSTOMER(CUS_ID))"
      ]
    },
    {
      "cell_type": "code",
      "execution_count": 16,
      "id": "967b718f",
      "metadata": {
        "id": "967b718f"
      },
      "outputs": [],
      "source": [
        "connection = sql.connect(host='localhost',\n",
        "                         user= 'root',\n",
        "                         passwd= 'CK1912',\n",
        "                         database= 'e_commerce')\n",
        "\n",
        "\n",
        "cursorObject = connection.cursor()\n"
      ]
    },
    {
      "cell_type": "code",
      "execution_count": 17,
      "id": "a5eb9191",
      "metadata": {},
      "outputs": [],
      "source": [
        "\n",
        "# Using context manager for cursor\n",
        "with connection.cursor() as cursor:\n",
        "    \n",
        "    # Supplier Table\n",
        "    supplier_table = \"\"\"\n",
        "    CREATE TABLE supplier(\n",
        "    SUPP_ID int primary key,\n",
        "    SUPP_NAME varchar(50),\n",
        "    SUPP_CITY varchar(50),\n",
        "    SUPP_PHONE varchar(10)\n",
        "    )\"\"\"\n",
        "    cursor.execute(supplier_table)\n",
        "\n",
        "    # Category Table\n",
        "    category_table = \"\"\"\n",
        "    CREATE TABLE IF NOT EXISTS category (\n",
        "    CAT_ID INT NOT NULL,\n",
        "    CAT_NAME VARCHAR(20) NULL DEFAULT NULL,\n",
        "    PRIMARY KEY (CAT_ID)\n",
        "    )\"\"\"\n",
        "    cursor.execute(category_table)\n",
        "\n",
        "    #Product Table\n",
        "    product_table = \"\"\" \n",
        "    CREATE TABLE IF NOT EXISTS product(\n",
        "    PRO_ID int primary key not null,\n",
        "    PRO_NAME varchar(20) null default null,\n",
        "    PRO_DESC varchar(60) null default null,\n",
        "    CAT_ID int not null,\n",
        "    FOREIGN KEY(CAT_ID) references CATEGORY(CAT_ID)\n",
        "    )\"\"\"\n",
        "    cursor.execute(product_table)\n",
        "\n",
        "    # Product Details Table\n",
        "    productdetails_table = \"\"\"\n",
        "    CREATE TABLE IF NOT EXISTS product_details (\n",
        "    PROD_ID INT NOT NULL,\n",
        "    PRO_ID INT NOT NULL,\n",
        "    SUPP_ID INT NOT NULL,\n",
        "    PROD_PRICE INT NOT NULL,\n",
        "    PRIMARY KEY (PROD_ID),\n",
        "    FOREIGN KEY (PRO_ID) REFERENCES product(PRO_ID),\n",
        "    FOREIGN KEY (SUPP_ID) REFERENCES supplier(SUPP_ID)\n",
        ");\"\"\"\n",
        "    cursor.execute(productdetails_table)\n",
        "\n",
        "    #Customer Table\n",
        "    customer_table = \"\"\"\n",
        "    CREATE TABLE customer(\n",
        "    CUS_ID int not null,\n",
        "    CUS_NAME varchar(20) null default null,\n",
        "    CUS_PHONE varchar(10),\n",
        "    CUS_CITY varchar(30),\n",
        "    CUS_GENDER char,\n",
        "    PRIMARY KEY (CUS_ID)\n",
        "    )\"\"\"\n",
        "    cursor.execute(customer_table)\n",
        "\n",
        "    #Order Table\n",
        "    orders_table = \"\"\"\n",
        "    CREATE TABLE IF NOT EXISTS orders (\n",
        "    ORD_ID INT NOT NULL,\n",
        "    ORD_AMOUNT INT NOT NULL,\n",
        "    ORD_DATE DATE,\n",
        "    CUS_ID INT NOT NULL,\n",
        "    PROD_ID INT NOT NULL,\n",
        "    PRIMARY KEY (ORD_ID),\n",
        "    FOREIGN KEY (CUS_ID) REFERENCES customer(CUS_ID),\n",
        "    FOREIGN KEY (PROD_ID) REFERENCES product_details(PROD_ID)\n",
        "    );\n",
        "    \"\"\"\n",
        "    cursor.execute(orders_table)\n",
        "\n",
        "    #Rating Table\n",
        "    rating_table = \"\"\"\n",
        "    CREATE TABLE IF NOT EXISTS rating (\n",
        "    RAT_ID INT NOT NULL,\n",
        "    CUS_ID INT NOT NULL,\n",
        "    SUPP_ID INT NOT NULL,\n",
        "    RAT_RATSTARS INT NOT NULL,\n",
        "    PRIMARY KEY (RAT_ID),\n",
        "    FOREIGN KEY (SUPP_ID) REFERENCES supplier(SUPP_ID),\n",
        "    FOREIGN KEY (CUS_ID) REFERENCES customer(CUS_ID)\n",
        "    );\n",
        "    \"\"\"\n",
        "    cursor.execute(rating_table)\n",
        "\n",
        "connection.commit()\n",
        " \n"
      ]
    },
    {
      "cell_type": "markdown",
      "id": "1f653731",
      "metadata": {
        "id": "1f653731"
      },
      "source": [
        "### Q2. Insert the following data in the table created above\n",
        "#### `Note:` If you are getting any error while inserting the data into tables, Kindly close the connection and reconnect\n",
        "\n",
        "#### Table:  supplier\n",
        "| SUPP_ID | SUPP_NAME | SUPP_CITY | SUPP_PHONE |\n",
        "| --- | --- | --- | --- |\n",
        "| 1 | Rajesh Retails | Delhi | 1234567890 |\n",
        "| 2 | Appario Ltd. | Mumbai | 258963147032 |\n",
        "| 3 | Knome products | Bangalore | 9785462315 |\n",
        "| 4 | Bansal Retails | Kochi | 8975463285 |\n",
        "| 5 | Mittal Ltd. | Lucknow | 7898456532 |"
      ]
    },
    {
      "cell_type": "code",
      "execution_count": 19,
      "id": "f6dddd07",
      "metadata": {
        "id": "f6dddd07"
      },
      "outputs": [],
      "source": [
        "# insert into \"supplier\" table\n",
        "insert_supplier_details = \"\"\"\n",
        "INSERT INTO supplier(SUPP_ID, SUPP_NAME, SUPP_CITY, SUPP_PHONE)\n",
        "VALUES(%s, %s, %s, %s)\n",
        "\"\"\"\n",
        "\n",
        "val = [\n",
        "    (1, 'Rajesh Retails', 'Delhi', '1234567890'),\n",
        "    (2, 'Appario Ltd.', 'Mumbai', '2589631470'),\n",
        "    (3, 'Knome products', 'Bangalore', '9785462315'),\n",
        "    (4, 'Bansal Retails', 'Kochi', '8975463285'),\n",
        "    (5, 'Mittal Ltd.', 'Lucknow', '7898456532')\n",
        "    ]\n",
        "\n",
        "cursorObject.executemany(insert_supplier_details, val)\n",
        "\n",
        "connection.commit()"
      ]
    },
    {
      "cell_type": "markdown",
      "id": "e8a070a6",
      "metadata": {
        "id": "e8a070a6"
      },
      "source": [
        "#### Table:  customer\n",
        "| CUS_ID | CUS_NAME | SUPP_PHONE | CUS_CITY | CUS_GENDER\n",
        "| --- | --- | --- | --- | --- |\n",
        "| 1 | AAKASH | 9999999999 | DELHI | M |\n",
        "| 2 | AMAN | 9785463215 | NOIDA | M |\n",
        "| 3 | NEHA | 9999999998 | MUMBAI | F |\n",
        "| 4 | MEGHA | 9994562399 | KOLKATA | F |\n",
        "| 5 | PULKIT | 7895999999 | LUCKNOW | M |"
      ]
    },
    {
      "cell_type": "code",
      "execution_count": 20,
      "id": "15a4ee87",
      "metadata": {
        "id": "15a4ee87"
      },
      "outputs": [],
      "source": [
        "# insert into \"customer\" table\n",
        "insert_customer_details = \"\"\"\n",
        "INSERT INTO customer (CUS_ID, CUS_NAME, CUS_PHONE, CUS_CITY, CUS_GENDER) \n",
        "VALUES (%s, %s, %s, %s, %s)\n",
        "\"\"\"\n",
        "\n",
        "val = [(1, 'AAKASH', '9999999999', 'DELHI', 'M'),\n",
        "    (2, 'AMAN', '9785463215', 'NOIDA', 'M'),\n",
        "    (3, 'NEHA', '9999999998', 'MUMBAI', 'F'),\n",
        "    (4, 'MEGHA', '9994562399', 'KOLKATA', 'F'),\n",
        "    (5, 'PULKIT', '7895999999', 'LUCKNOW', 'M')]\n",
        "\n",
        "with connection.cursor() as cursor:\n",
        "    cursor.executemany(insert_customer_details, val)\n",
        "\n",
        "\n",
        "connection.commit()"
      ]
    },
    {
      "cell_type": "markdown",
      "id": "b68bfbc2",
      "metadata": {
        "id": "b68bfbc2"
      },
      "source": [
        "#### Table:  category\n",
        "| CAT_ID | CAT_NAME |\n",
        "| --- | --- |  \n",
        "| 1 | BOOKS |\n",
        "| 2 | GAMES |  \n",
        "| 3 | GROCERIES |\n",
        "| 4 | ELECTRONICS |\n",
        "| 5 | CLOTHES |"
      ]
    },
    {
      "cell_type": "code",
      "execution_count": 21,
      "id": "05a00abc",
      "metadata": {
        "id": "05a00abc"
      },
      "outputs": [],
      "source": [
        "# insert into \"categoty\" table\n",
        "insert_category_details = \"\"\"\n",
        "INSERT INTO category (CAT_ID, CAT_NAME) \n",
        "VALUES (%s, %s)\n",
        "\"\"\"\n",
        "\n",
        "val = [(1, 'BOOKS'),\n",
        "    (2, 'GAMES'),\n",
        "    (3, 'GROCERIES'),\n",
        "    (4, 'ELECTRONICS'),\n",
        "    (5, 'CLOTHES')]\n",
        "\n",
        "with connection.cursor() as cursor:\n",
        "    cursor.executemany(insert_category_details, val)\n",
        "\n",
        "# Committing the changes\n",
        "connection.commit()"
      ]
    },
    {
      "cell_type": "markdown",
      "id": "eb3bc592",
      "metadata": {
        "id": "eb3bc592"
      },
      "source": [
        "#### Table:  product\n",
        "| PRO_ID | PRO_NAME | PRO_DESC | CAT_ID |\n",
        "| --- | --- | --- | --- |\n",
        "| 1 | GTA V | DFJDJFDJFDJFDJFJF | 2 |\n",
        "| 2 | TSHIRT | DFDFJDFJDKFD | 5 |\n",
        "| 3 | ROG LAPTOP | DFNTTNTNTERND | 4 |\n",
        "| 4 | OATS | REURENTBTOTH | 3 |\n",
        "| 5 | HARRY POTTER | NBEMCTHTJTH | 1 |\n"
      ]
    },
    {
      "cell_type": "code",
      "execution_count": 22,
      "id": "cdfbdfad",
      "metadata": {
        "id": "cdfbdfad"
      },
      "outputs": [],
      "source": [
        "# insert into \"product\" table\n",
        "\n",
        "insert_product_details = \"\"\"\n",
        "INSERT INTO product (PRO_ID, PRO_NAME, PRO_DESC, CAT_ID) \n",
        "VALUES (%s, %s, %s, %s)\n",
        "\"\"\"\n",
        "\n",
        "val = [\n",
        "    (1, 'GTA V', 'Adrenaline fueled Stunt Races', 2),\n",
        "    (2, 'TSHIRT', 'Short sleeved casual top', 5),\n",
        "    (3, 'ROG LAPTOP', 'Versatile gaming laptops', 4),\n",
        "    (4, 'OATS', 'A nutrient rich food', 3),\n",
        "    (5, 'HARRY POTTER', 'Series of seven fantasy novels', 1)\n",
        "]\n",
        "\n",
        "with connection.cursor() as cursor:\n",
        "    cursor.executemany(insert_product_details, val)\n",
        "\n",
        "# Committing the changes\n",
        "connection.commit()"
      ]
    },
    {
      "cell_type": "markdown",
      "id": "cfa8a47d",
      "metadata": {
        "id": "cfa8a47d"
      },
      "source": [
        "#### Table:  product_details\n",
        "| PROD_ID | PRO_ID | SUPP_ID | PROD_PRICE |\n",
        "| --- | --- | --- | --- |\n",
        "| 1 | 1 | 2 | 1500 |\n",
        "| 2 | 3 | 5 | 30000 |\n",
        "| 3 | 5 | 1 | 3000 |\n",
        "| 4 | 2 | 3 | 2500 |\n",
        "| 5 | 4 | 1 | 1000 |"
      ]
    },
    {
      "cell_type": "code",
      "execution_count": 24,
      "id": "c18ea964",
      "metadata": {
        "id": "c18ea964"
      },
      "outputs": [],
      "source": [
        "# insert into \"product_details\" table\n",
        " \n",
        "insert_productdetails = \"\"\" \n",
        "INSERT INTO product_details(PROD_ID, PRO_ID, SUPP_ID,  PROD_PRICE)\n",
        "VALUES(%s, %s, %s, %s) \"\"\"\n",
        "\n",
        "val = [\n",
        "    (1, 1, 2, 1500),\n",
        "    (2, 3, 5, 30000),\n",
        "    (3, 5, 1, 3000),\n",
        "    (4, 2, 3, 2500),\n",
        "    (5, 4, 1, 1000)\n",
        "]\n",
        "\n",
        "with connection.cursor() as cursor:\n",
        "    cursor.executemany(insert_productdetails, val)\n",
        "\n",
        "connection.commit()"
      ]
    },
    {
      "cell_type": "markdown",
      "id": "1df49086",
      "metadata": {
        "id": "1df49086"
      },
      "source": [
        "#### Table:  orders\n",
        "| ORD_ID | ORD_AMOUNT | ORD_DATE | CUS_ID | PROD_ID\n",
        "| --- | --- | --- | --- | --- |\n",
        "| 20 | 1500 | 2021-10-12 | 3 | 5 |\n",
        "| 25 | 30500 | 2021-09-16 | 5 | 2 |\n",
        "| 26 | 2000 | 2021-10-05 | 1 | 1 |\n",
        "| 30 | 3500 | 2021-08-16 | 4 | 3 |\n",
        "| 50 | 2000 | 2021-10-06 | 2 | 1 |"
      ]
    },
    {
      "cell_type": "code",
      "execution_count": 25,
      "id": "0d97dc92",
      "metadata": {
        "id": "0d97dc92"
      },
      "outputs": [],
      "source": [
        "# insert into \"orders\" table\n",
        "insert_order_details = \"\"\"\n",
        "INSERT INTO orders (ORD_ID, ORD_AMOUNT, ORD_DATE, CUS_ID, PROD_ID) \n",
        "VALUES (%s, %s, %s, %s, %s)\n",
        "\"\"\"\n",
        "\n",
        "val = [\n",
        "    (20, 1500, '2021-10-12', 3, 5),\n",
        "    (25, 30500, '2021-09-16', 5, 2),\n",
        "    (26, 2000, '2021-10-05', 1, 1),\n",
        "    (30, 3500, '2021-08-16', 4, 3),\n",
        "    (50, 2000, '2021-10-06', 2, 1)\n",
        "]\n",
        "\n",
        "with connection.cursor() as cursor:\n",
        "    cursor.executemany(insert_order_details, val)\n",
        "\n",
        "# Committing the changes\n",
        "connection.commit()"
      ]
    },
    {
      "cell_type": "markdown",
      "id": "75b8ce5f",
      "metadata": {
        "id": "75b8ce5f"
      },
      "source": [
        "#### Table: rating\n",
        "| RAT_ID | CUS_ID | SUPP_ID | RAT_RATSTARS |\n",
        "| --- | --- | --- | --- |\n",
        "| 1 | 2 | 2 | 4 |\n",
        "| 2 | 3 | 4 | 3 |\n",
        "| 3 | 5 | 1 | 5 |\n",
        "| 4 | 1 | 3 | 2 |\n",
        "| 5 | 4 | 5 | 4 |"
      ]
    },
    {
      "cell_type": "code",
      "execution_count": 26,
      "id": "6d5f1e18",
      "metadata": {
        "id": "6d5f1e18"
      },
      "outputs": [],
      "source": [
        "# insert into \"rating\" table\n",
        "insert_rating_details = \"\"\"\n",
        "INSERT INTO rating (RAT_ID, CUS_ID, SUPP_ID, RAT_RATSTARS) \n",
        "VALUES (%s, %s, %s, %s)\n",
        "\"\"\"\n",
        "\n",
        "val = [\n",
        "    (1, 2, 2, 4),\n",
        "    (2, 3, 4, 3),\n",
        "    (3, 5, 1, 5),\n",
        "    (4, 1, 3, 2),\n",
        "    (5, 4, 5, 4)\n",
        "]\n",
        "\n",
        "with connection.cursor() as cursor:\n",
        "    cursor.executemany(insert_rating_details, val)\n",
        "\n",
        "# Committing the changes\n",
        "connection.commit()"
      ]
    },
    {
      "cell_type": "markdown",
      "id": "b59361c3",
      "metadata": {
        "id": "b59361c3"
      },
      "source": [
        "### Q3) Display the number of the customer group by their genders who have placed any order of amount greater than or equal to Rs.3000."
      ]
    },
    {
      "cell_type": "code",
      "execution_count": 27,
      "id": "fcafaf3c",
      "metadata": {
        "id": "fcafaf3c"
      },
      "outputs": [
        {
          "data": {
            "text/html": [
              "<div>\n",
              "<style scoped>\n",
              "    .dataframe tbody tr th:only-of-type {\n",
              "        vertical-align: middle;\n",
              "    }\n",
              "\n",
              "    .dataframe tbody tr th {\n",
              "        vertical-align: top;\n",
              "    }\n",
              "\n",
              "    .dataframe thead th {\n",
              "        text-align: right;\n",
              "    }\n",
              "</style>\n",
              "<table border=\"1\" class=\"dataframe\">\n",
              "  <thead>\n",
              "    <tr style=\"text-align: right;\">\n",
              "      <th></th>\n",
              "      <th>CUS_GENDER</th>\n",
              "      <th>COUNT</th>\n",
              "    </tr>\n",
              "  </thead>\n",
              "  <tbody>\n",
              "    <tr>\n",
              "      <th>0</th>\n",
              "      <td>M</td>\n",
              "      <td>1</td>\n",
              "    </tr>\n",
              "    <tr>\n",
              "      <th>1</th>\n",
              "      <td>F</td>\n",
              "      <td>1</td>\n",
              "    </tr>\n",
              "  </tbody>\n",
              "</table>\n",
              "</div>"
            ],
            "text/plain": [
              "  CUS_GENDER  COUNT\n",
              "0          M      1\n",
              "1          F      1"
            ]
          },
          "execution_count": 27,
          "metadata": {},
          "output_type": "execute_result"
        }
      ],
      "source": [
        "Query3=     \"\"\"select customer.cus_gender,count(customer.cus_gender) as count \n",
        "            from customer inner join `orders` on customer.cus_id=`orders`.cus_id \n",
        "            where `orders`.ord_amount>=3000 group by customer.cus_gender;\"\"\"\n",
        "\n",
        "\n",
        "cursorObject.execute(Query3)\n",
        "output = cursorObject.fetchall()\n",
        "\n",
        "## Lets put the output of this query in pandas DataFrame\n",
        "output_df = pd.DataFrame(output, columns=['CUS_GENDER','COUNT'])\n",
        "output_df"
      ]
    },
    {
      "cell_type": "markdown",
      "id": "e49e04f5",
      "metadata": {
        "id": "e49e04f5"
      },
      "source": [
        "### Q4) Display all the order along with product name ordered by a customer having Customer_Id=2;"
      ]
    },
    {
      "cell_type": "code",
      "execution_count": 28,
      "id": "9dcb7883",
      "metadata": {
        "id": "9dcb7883"
      },
      "outputs": [
        {
          "data": {
            "text/html": [
              "<div>\n",
              "<style scoped>\n",
              "    .dataframe tbody tr th:only-of-type {\n",
              "        vertical-align: middle;\n",
              "    }\n",
              "\n",
              "    .dataframe tbody tr th {\n",
              "        vertical-align: top;\n",
              "    }\n",
              "\n",
              "    .dataframe thead th {\n",
              "        text-align: right;\n",
              "    }\n",
              "</style>\n",
              "<table border=\"1\" class=\"dataframe\">\n",
              "  <thead>\n",
              "    <tr style=\"text-align: right;\">\n",
              "      <th></th>\n",
              "      <th>ORD_ID</th>\n",
              "      <th>ORD_AMOUNT</th>\n",
              "      <th>ORD_DATE</th>\n",
              "      <th>CUS_ID</th>\n",
              "      <th>PROD_ID</th>\n",
              "      <th>PRO_NAME</th>\n",
              "    </tr>\n",
              "  </thead>\n",
              "  <tbody>\n",
              "    <tr>\n",
              "      <th>0</th>\n",
              "      <td>50</td>\n",
              "      <td>2000</td>\n",
              "      <td>2021-10-06</td>\n",
              "      <td>2</td>\n",
              "      <td>1</td>\n",
              "      <td>GTA V</td>\n",
              "    </tr>\n",
              "  </tbody>\n",
              "</table>\n",
              "</div>"
            ],
            "text/plain": [
              "   ORD_ID  ORD_AMOUNT    ORD_DATE  CUS_ID  PROD_ID PRO_NAME\n",
              "0      50        2000  2021-10-06       2        1    GTA V"
            ]
          },
          "execution_count": 28,
          "metadata": {},
          "output_type": "execute_result"
        }
      ],
      "source": [
        "Query4=    \"\"\"select `orders`.*,product.pro_name \n",
        "               from `orders` ,product_details,product \n",
        "               where `orders`.cus_id=2 and `orders`.prod_id=product_details.prod_id and product_details.pro_id=product.pro_id;\"\"\"\n",
        "\n",
        "cursorObject.execute(Query4)\n",
        "output = cursorObject.fetchall()\n",
        "\n",
        "\n",
        "output_df = pd.DataFrame(output, columns=['ORD_ID','ORD_AMOUNT','ORD_DATE','CUS_ID','PROD_ID','PRO_NAME'])\n",
        "output_df"
      ]
    },
    {
      "cell_type": "markdown",
      "id": "3a33398e",
      "metadata": {
        "id": "3a33398e"
      },
      "source": [
        "### Q5) Display the Supplier details who can supply more than one product."
      ]
    },
    {
      "cell_type": "code",
      "execution_count": 29,
      "id": "e933b979",
      "metadata": {
        "id": "e933b979"
      },
      "outputs": [
        {
          "data": {
            "text/html": [
              "<div>\n",
              "<style scoped>\n",
              "    .dataframe tbody tr th:only-of-type {\n",
              "        vertical-align: middle;\n",
              "    }\n",
              "\n",
              "    .dataframe tbody tr th {\n",
              "        vertical-align: top;\n",
              "    }\n",
              "\n",
              "    .dataframe thead th {\n",
              "        text-align: right;\n",
              "    }\n",
              "</style>\n",
              "<table border=\"1\" class=\"dataframe\">\n",
              "  <thead>\n",
              "    <tr style=\"text-align: right;\">\n",
              "      <th></th>\n",
              "      <th>SUPP_ID</th>\n",
              "      <th>SUPP_NAME</th>\n",
              "      <th>SUPP_CITY</th>\n",
              "      <th>SUPP_PHONE</th>\n",
              "    </tr>\n",
              "  </thead>\n",
              "  <tbody>\n",
              "    <tr>\n",
              "      <th>0</th>\n",
              "      <td>1</td>\n",
              "      <td>Rajesh Retails</td>\n",
              "      <td>Delhi</td>\n",
              "      <td>1234567890</td>\n",
              "    </tr>\n",
              "  </tbody>\n",
              "</table>\n",
              "</div>"
            ],
            "text/plain": [
              "   SUPP_ID       SUPP_NAME SUPP_CITY  SUPP_PHONE\n",
              "0        1  Rajesh Retails     Delhi  1234567890"
            ]
          },
          "execution_count": 29,
          "metadata": {},
          "output_type": "execute_result"
        }
      ],
      "source": [
        "Query5=     \"\"\"select supplier.* \n",
        "               from supplier,product_details \n",
        "               where supplier.supp_id in \n",
        "               (select product_details.supp_id from product_details \n",
        "               group by product_details.supp_id having count(product_details.supp_id)>1) \n",
        "               group by supplier.supp_id;\"\"\"\n",
        "\n",
        "cursorObject.execute(Query5)\n",
        "output = cursorObject.fetchall()\n",
        "\n",
        "\n",
        "output_df = pd.DataFrame(output, columns=['SUPP_ID','SUPP_NAME','SUPP_CITY','SUPP_PHONE'])\n",
        "output_df"
      ]
    },
    {
      "cell_type": "markdown",
      "id": "5fd319ef",
      "metadata": {
        "id": "5fd319ef"
      },
      "source": [
        "### Q6) Find the category of the product whose order amount is minimum."
      ]
    },
    {
      "cell_type": "code",
      "execution_count": 30,
      "id": "06f5cb51",
      "metadata": {
        "id": "06f5cb51"
      },
      "outputs": [
        {
          "name": "stdout",
          "output_type": "stream",
          "text": [
            "Category ID and category name of the product with the minimum order amount:\n",
            "Category ID: 3, Category Name: GROCERIES\n",
            "\n",
            "Pandas DataFrame:\n",
            "   Category ID Category Name\n",
            "0            3     GROCERIES\n"
          ]
        }
      ],
      "source": [
        "query = \"\"\"\n",
        "SELECT c.CAT_ID, c.CAT_NAME\n",
        "FROM orders o\n",
        "JOIN product_details pd ON o.PROD_ID = pd.PROD_ID\n",
        "JOIN product p ON pd.PRO_ID = p.PRO_ID\n",
        "JOIN category c ON p.CAT_ID = c.CAT_ID\n",
        "ORDER BY o.ORD_AMOUNT ASC\n",
        "LIMIT 1;\n",
        "\"\"\"\n",
        "\n",
        "# Execute the query\n",
        "with connection.cursor() as cursor:\n",
        "    cursor.execute(query)\n",
        "    result = cursor.fetchall()\n",
        "\n",
        "# Print the result using regular print\n",
        "print(\"Category ID and category name of the product with the minimum order amount:\")\n",
        "for row in result:\n",
        "    print(f\"Category ID: {row[0]}, Category Name: {row[1]}\")\n",
        "\n",
        "# Convert the result to a pandas DataFrame and display it\n",
        "df = pd.DataFrame(result, columns=['Category ID', 'Category Name'])\n",
        "print(\"\\nPandas DataFrame:\")\n",
        "print(df)"
      ]
    },
    {
      "cell_type": "markdown",
      "id": "107102d4",
      "metadata": {
        "id": "107102d4"
      },
      "source": [
        "### Q7) Display the Id and Name of the Product ordered after “2021-10-05”."
      ]
    },
    {
      "cell_type": "code",
      "execution_count": 31,
      "id": "5d3fc7e8",
      "metadata": {
        "id": "5d3fc7e8"
      },
      "outputs": [
        {
          "data": {
            "text/html": [
              "<div>\n",
              "<style scoped>\n",
              "    .dataframe tbody tr th:only-of-type {\n",
              "        vertical-align: middle;\n",
              "    }\n",
              "\n",
              "    .dataframe tbody tr th {\n",
              "        vertical-align: top;\n",
              "    }\n",
              "\n",
              "    .dataframe thead th {\n",
              "        text-align: right;\n",
              "    }\n",
              "</style>\n",
              "<table border=\"1\" class=\"dataframe\">\n",
              "  <thead>\n",
              "    <tr style=\"text-align: right;\">\n",
              "      <th></th>\n",
              "      <th>PRO_ID</th>\n",
              "      <th>PRO_NAME</th>\n",
              "    </tr>\n",
              "  </thead>\n",
              "  <tbody>\n",
              "    <tr>\n",
              "      <th>0</th>\n",
              "      <td>4</td>\n",
              "      <td>OATS</td>\n",
              "    </tr>\n",
              "    <tr>\n",
              "      <th>1</th>\n",
              "      <td>1</td>\n",
              "      <td>GTA V</td>\n",
              "    </tr>\n",
              "  </tbody>\n",
              "</table>\n",
              "</div>"
            ],
            "text/plain": [
              "   PRO_ID PRO_NAME\n",
              "0       4     OATS\n",
              "1       1    GTA V"
            ]
          },
          "execution_count": 31,
          "metadata": {},
          "output_type": "execute_result"
        }
      ],
      "source": [
        "Query7=     \"\"\"select product.pro_id,product.pro_name \n",
        "               from `orders` inner join product_details on product_details.prod_id=`orders`.prod_id \n",
        "               inner join product on product.pro_id=product_details.pro_id where `orders`.ord_date>\"2021-10-05\";\"\"\"\n",
        "\n",
        "cursorObject.execute(Query7)\n",
        "output = cursorObject.fetchall()\n",
        "\n",
        "\n",
        "output_df = pd.DataFrame(output, columns=['PRO_ID','PRO_NAME'])\n",
        "output_df"
      ]
    },
    {
      "cell_type": "markdown",
      "id": "bdce7167",
      "metadata": {
        "id": "bdce7167"
      },
      "source": [
        "### Q8) Print the top 3 supplier name and id and rating on the basis of their rating along with the customer name who has given the rating."
      ]
    },
    {
      "cell_type": "code",
      "execution_count": 32,
      "id": "fa0cbe44",
      "metadata": {
        "id": "fa0cbe44"
      },
      "outputs": [
        {
          "data": {
            "text/html": [
              "<div>\n",
              "<style scoped>\n",
              "    .dataframe tbody tr th:only-of-type {\n",
              "        vertical-align: middle;\n",
              "    }\n",
              "\n",
              "    .dataframe tbody tr th {\n",
              "        vertical-align: top;\n",
              "    }\n",
              "\n",
              "    .dataframe thead th {\n",
              "        text-align: right;\n",
              "    }\n",
              "</style>\n",
              "<table border=\"1\" class=\"dataframe\">\n",
              "  <thead>\n",
              "    <tr style=\"text-align: right;\">\n",
              "      <th></th>\n",
              "      <th>SUPP_ID</th>\n",
              "      <th>SUPP_NAME</th>\n",
              "      <th>CUS_NAME</th>\n",
              "      <th>RAT_RATSTARS</th>\n",
              "    </tr>\n",
              "  </thead>\n",
              "  <tbody>\n",
              "    <tr>\n",
              "      <th>0</th>\n",
              "      <td>1</td>\n",
              "      <td>Rajesh Retails</td>\n",
              "      <td>PULKIT</td>\n",
              "      <td>5</td>\n",
              "    </tr>\n",
              "    <tr>\n",
              "      <th>1</th>\n",
              "      <td>2</td>\n",
              "      <td>Appario Ltd.</td>\n",
              "      <td>AMAN</td>\n",
              "      <td>4</td>\n",
              "    </tr>\n",
              "    <tr>\n",
              "      <th>2</th>\n",
              "      <td>5</td>\n",
              "      <td>Mittal Ltd.</td>\n",
              "      <td>MEGHA</td>\n",
              "      <td>4</td>\n",
              "    </tr>\n",
              "  </tbody>\n",
              "</table>\n",
              "</div>"
            ],
            "text/plain": [
              "   SUPP_ID       SUPP_NAME CUS_NAME  RAT_RATSTARS\n",
              "0        1  Rajesh Retails   PULKIT             5\n",
              "1        2    Appario Ltd.     AMAN             4\n",
              "2        5     Mittal Ltd.    MEGHA             4"
            ]
          },
          "execution_count": 32,
          "metadata": {},
          "output_type": "execute_result"
        }
      ],
      "source": [
        "Query8=     \"\"\"select supplier.supp_id,supplier.supp_name,customer.cus_name,rating.rat_ratstars \n",
        "               from rating inner join supplier on rating.supp_id=supplier.supp_id \n",
        "               inner join customer on rating.cus_id=customer.cus_id order by rating.rat_ratstars desc limit 3;\"\"\"\n",
        "\n",
        "cursorObject.execute(Query8)\n",
        "output = cursorObject.fetchall()\n",
        "\n",
        "\n",
        "output_df = pd.DataFrame(output, columns=['SUPP_ID','SUPP_NAME','CUS_NAME','RAT_RATSTARS'])\n",
        "output_df"
      ]
    },
    {
      "cell_type": "markdown",
      "id": "346ec2a1",
      "metadata": {
        "id": "346ec2a1"
      },
      "source": [
        "### Q9) Display customer name and gender whose names start or end with character 'A'."
      ]
    },
    {
      "cell_type": "code",
      "execution_count": 33,
      "id": "e571b5fd",
      "metadata": {
        "id": "e571b5fd"
      },
      "outputs": [
        {
          "data": {
            "text/html": [
              "<div>\n",
              "<style scoped>\n",
              "    .dataframe tbody tr th:only-of-type {\n",
              "        vertical-align: middle;\n",
              "    }\n",
              "\n",
              "    .dataframe tbody tr th {\n",
              "        vertical-align: top;\n",
              "    }\n",
              "\n",
              "    .dataframe thead th {\n",
              "        text-align: right;\n",
              "    }\n",
              "</style>\n",
              "<table border=\"1\" class=\"dataframe\">\n",
              "  <thead>\n",
              "    <tr style=\"text-align: right;\">\n",
              "      <th></th>\n",
              "      <th>CUS_NAME</th>\n",
              "      <th>CUS_GENDER</th>\n",
              "    </tr>\n",
              "  </thead>\n",
              "  <tbody>\n",
              "    <tr>\n",
              "      <th>0</th>\n",
              "      <td>AAKASH</td>\n",
              "      <td>M</td>\n",
              "    </tr>\n",
              "    <tr>\n",
              "      <th>1</th>\n",
              "      <td>AMAN</td>\n",
              "      <td>M</td>\n",
              "    </tr>\n",
              "    <tr>\n",
              "      <th>2</th>\n",
              "      <td>NEHA</td>\n",
              "      <td>F</td>\n",
              "    </tr>\n",
              "    <tr>\n",
              "      <th>3</th>\n",
              "      <td>MEGHA</td>\n",
              "      <td>F</td>\n",
              "    </tr>\n",
              "  </tbody>\n",
              "</table>\n",
              "</div>"
            ],
            "text/plain": [
              "  CUS_NAME CUS_GENDER\n",
              "0   AAKASH          M\n",
              "1     AMAN          M\n",
              "2     NEHA          F\n",
              "3    MEGHA          F"
            ]
          },
          "execution_count": 33,
          "metadata": {},
          "output_type": "execute_result"
        }
      ],
      "source": [
        "Query9=     \"\"\"select customer.cus_name ,customer.cus_gender \n",
        "               from customer where customer.cus_name like 'A%' or customer.cus_name like '%A';\"\"\"\n",
        "\n",
        "cursorObject.execute(Query9)\n",
        "output = cursorObject.fetchall()\n",
        "   \n",
        "    \n",
        "output_df = pd.DataFrame(output, columns=['CUS_NAME','CUS_GENDER'])\n",
        "output_df"
      ]
    },
    {
      "cell_type": "markdown",
      "id": "d0b01f77",
      "metadata": {
        "id": "d0b01f77"
      },
      "source": [
        "### Q10) Display the total order amount of the male customers."
      ]
    },
    {
      "cell_type": "code",
      "execution_count": 34,
      "id": "c3fa76e3",
      "metadata": {
        "id": "c3fa76e3"
      },
      "outputs": [
        {
          "name": "stdout",
          "output_type": "stream",
          "text": [
            "Amount is ((Decimal('34500'),),)\n"
          ]
        }
      ],
      "source": [
        "Query10=     \"\"\"select sum(`orders`.ord_amount) as Amount \n",
        "                from `orders` inner join customer on `orders`.cus_id=customer.cus_id where customer.cus_gender='M';\"\"\"\n",
        "\n",
        "cursorObject.execute(Query10)\n",
        "output = cursorObject.fetchall()\n",
        "\n",
        "\n",
        "print(\"Amount is\",output);"
      ]
    },
    {
      "cell_type": "markdown",
      "id": "ff8a9971",
      "metadata": {
        "id": "ff8a9971"
      },
      "source": [
        "### Q11) Display all the Customers left outer join with  the orders"
      ]
    },
    {
      "cell_type": "code",
      "execution_count": 35,
      "id": "a340c6d6",
      "metadata": {
        "id": "a340c6d6"
      },
      "outputs": [
        {
          "data": {
            "text/html": [
              "<div>\n",
              "<style scoped>\n",
              "    .dataframe tbody tr th:only-of-type {\n",
              "        vertical-align: middle;\n",
              "    }\n",
              "\n",
              "    .dataframe tbody tr th {\n",
              "        vertical-align: top;\n",
              "    }\n",
              "\n",
              "    .dataframe thead th {\n",
              "        text-align: right;\n",
              "    }\n",
              "</style>\n",
              "<table border=\"1\" class=\"dataframe\">\n",
              "  <thead>\n",
              "    <tr style=\"text-align: right;\">\n",
              "      <th></th>\n",
              "      <th>CUS_ID</th>\n",
              "      <th>CUS_NAME</th>\n",
              "      <th>CUS_PHONE</th>\n",
              "      <th>CUS_CITY</th>\n",
              "      <th>CUS_GENDER</th>\n",
              "      <th>ORD_ID</th>\n",
              "      <th>ORD_AMOUNT</th>\n",
              "      <th>ORD_DATE</th>\n",
              "      <th>CUS_ID</th>\n",
              "      <th>PROD_ID</th>\n",
              "    </tr>\n",
              "  </thead>\n",
              "  <tbody>\n",
              "    <tr>\n",
              "      <th>0</th>\n",
              "      <td>1</td>\n",
              "      <td>AAKASH</td>\n",
              "      <td>9999999999</td>\n",
              "      <td>DELHI</td>\n",
              "      <td>M</td>\n",
              "      <td>26</td>\n",
              "      <td>2000</td>\n",
              "      <td>2021-10-05</td>\n",
              "      <td>1</td>\n",
              "      <td>1</td>\n",
              "    </tr>\n",
              "    <tr>\n",
              "      <th>1</th>\n",
              "      <td>2</td>\n",
              "      <td>AMAN</td>\n",
              "      <td>9785463215</td>\n",
              "      <td>NOIDA</td>\n",
              "      <td>M</td>\n",
              "      <td>50</td>\n",
              "      <td>2000</td>\n",
              "      <td>2021-10-06</td>\n",
              "      <td>2</td>\n",
              "      <td>1</td>\n",
              "    </tr>\n",
              "    <tr>\n",
              "      <th>2</th>\n",
              "      <td>3</td>\n",
              "      <td>NEHA</td>\n",
              "      <td>9999999998</td>\n",
              "      <td>MUMBAI</td>\n",
              "      <td>F</td>\n",
              "      <td>20</td>\n",
              "      <td>1500</td>\n",
              "      <td>2021-10-12</td>\n",
              "      <td>3</td>\n",
              "      <td>5</td>\n",
              "    </tr>\n",
              "    <tr>\n",
              "      <th>3</th>\n",
              "      <td>4</td>\n",
              "      <td>MEGHA</td>\n",
              "      <td>9994562399</td>\n",
              "      <td>KOLKATA</td>\n",
              "      <td>F</td>\n",
              "      <td>30</td>\n",
              "      <td>3500</td>\n",
              "      <td>2021-08-16</td>\n",
              "      <td>4</td>\n",
              "      <td>3</td>\n",
              "    </tr>\n",
              "    <tr>\n",
              "      <th>4</th>\n",
              "      <td>5</td>\n",
              "      <td>PULKIT</td>\n",
              "      <td>7895999999</td>\n",
              "      <td>LUCKNOW</td>\n",
              "      <td>M</td>\n",
              "      <td>25</td>\n",
              "      <td>30500</td>\n",
              "      <td>2021-09-16</td>\n",
              "      <td>5</td>\n",
              "      <td>2</td>\n",
              "    </tr>\n",
              "  </tbody>\n",
              "</table>\n",
              "</div>"
            ],
            "text/plain": [
              "   CUS_ID CUS_NAME   CUS_PHONE CUS_CITY CUS_GENDER  ORD_ID  ORD_AMOUNT  \\\n",
              "0       1   AAKASH  9999999999    DELHI          M      26        2000   \n",
              "1       2     AMAN  9785463215    NOIDA          M      50        2000   \n",
              "2       3     NEHA  9999999998   MUMBAI          F      20        1500   \n",
              "3       4    MEGHA  9994562399  KOLKATA          F      30        3500   \n",
              "4       5   PULKIT  7895999999  LUCKNOW          M      25       30500   \n",
              "\n",
              "     ORD_DATE  CUS_ID  PROD_ID  \n",
              "0  2021-10-05       1        1  \n",
              "1  2021-10-06       2        1  \n",
              "2  2021-10-12       3        5  \n",
              "3  2021-08-16       4        3  \n",
              "4  2021-09-16       5        2  "
            ]
          },
          "execution_count": 35,
          "metadata": {},
          "output_type": "execute_result"
        }
      ],
      "source": [
        "Query11=     \"\"\"select *  from customer left outer join `orders` on customer.cus_id=`orders`.cus_id;\"\"\"\n",
        "\n",
        "cursorObject.execute(Query11)\n",
        "output = cursorObject.fetchall()\n",
        "\n",
        "\n",
        "output_df = pd.DataFrame(output, columns=['CUS_ID','CUS_NAME','CUS_PHONE','CUS_CITY','CUS_GENDER','ORD_ID','ORD_AMOUNT','ORD_DATE','CUS_ID','PROD_ID'])\n",
        "output_df"
      ]
    },
    {
      "cell_type": "code",
      "execution_count": 36,
      "id": "fb5a2672",
      "metadata": {},
      "outputs": [],
      "source": [
        "connection.close()"
      ]
    },
    {
      "cell_type": "markdown",
      "id": "0a72afe3",
      "metadata": {
        "id": "0a72afe3"
      },
      "source": [
        "**NOTE:** Always close an open connection once you are done with the database operations"
      ]
    },
    {
      "cell_type": "markdown",
      "id": "8c88f479",
      "metadata": {
        "id": "8c88f479"
      },
      "source": [
        "## Happy Learning:)"
      ]
    }
  ],
  "metadata": {
    "colab": {
      "provenance": []
    },
    "kernelspec": {
      "display_name": "Python 3 (ipykernel)",
      "language": "python",
      "name": "python3"
    },
    "language_info": {
      "codemirror_mode": {
        "name": "ipython",
        "version": 3
      },
      "file_extension": ".py",
      "mimetype": "text/x-python",
      "name": "python",
      "nbconvert_exporter": "python",
      "pygments_lexer": "ipython3",
      "version": "3.11.7"
    }
  },
  "nbformat": 4,
  "nbformat_minor": 5
}
